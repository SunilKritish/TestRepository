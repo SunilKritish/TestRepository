{
  "nbformat": 4,
  "nbformat_minor": 0,
  "metadata": {
    "colab": {
      "name": "Untitled1.ipynb",
      "provenance": [],
      "authorship_tag": "ABX9TyN+0+qoCi0JHDQcBTdxN7SM",
      "include_colab_link": true
    },
    "kernelspec": {
      "name": "python3",
      "display_name": "Python 3"
    }
  },
  "cells": [
    {
      "cell_type": "markdown",
      "metadata": {
        "id": "view-in-github",
        "colab_type": "text"
      },
      "source": [
        "<a href=\"https://colab.research.google.com/github/SunilKritish/TestRepository/blob/main/MultiplicationUsingOperatorOverload.ipynb\" target=\"_parent\"><img src=\"https://colab.research.google.com/assets/colab-badge.svg\" alt=\"Open In Colab\"/></a>"
      ]
    },
    {
      "cell_type": "code",
      "metadata": {
        "colab": {
          "base_uri": "https://localhost:8080/"
        },
        "id": "2_nTUWC2yDLL",
        "outputId": "bc47b82e-f315-478e-fee0-562cf0b7fce2"
      },
      "source": [
        "class Tweet:\r\n",
        "    def __init__(self, message, time):\r\n",
        "        self.message = message\r\n",
        "        self.time = time\r\n",
        "\r\n",
        "    def __lt__(self, other):\r\n",
        "        return self.time < other.time\r\n",
        "        \r\n",
        "    def __contains__(self, word):\r\n",
        "      for x in tweet:\r\n",
        "        if word==\"flushed\":\r\n",
        "          print(\"given word found\")\r\n",
        "        #Implement the method\r\n",
        "\r\n",
        "tweet = \"I just flushed my toilet\"\r\n",
        "tweet1=Tweet(tweet,\"56\")\r\n",
        "print(tweet1)\r\n",
        "#now write code to check if the word \"flushed\" is in the tweet\r\n",
        "#and print something nice if that's the case"
      ],
      "execution_count": 9,
      "outputs": [
        {
          "output_type": "stream",
          "text": [
            "<__main__.Tweet object at 0x7f33640da240>\n"
          ],
          "name": "stdout"
        }
      ]
    },
    {
      "cell_type": "code",
      "metadata": {
        "id": "jOZvtt718gpz"
      },
      "source": [
        ""
      ],
      "execution_count": null,
      "outputs": []
    },
    {
      "cell_type": "code",
      "metadata": {
        "colab": {
          "base_uri": "https://localhost:8080/"
        },
        "id": "Id7RCu8l8g7M",
        "outputId": "0c82641c-124b-41cc-9672-f1f27f2512dd"
      },
      "source": [
        "class A: \r\n",
        "    def __init__(self, a): \r\n",
        "        self.a = a \r\n",
        "  \r\n",
        "    def __mul__(self, other): \r\n",
        "        return self.a * other.a  \r\n",
        "obj1 = A(1) \r\n",
        "obj2 = A(2) \r\n",
        "obj3 = A(5) \r\n",
        "obj4 = A(7) \r\n",
        "  \r\n",
        "print(obj1 * ob2) \r\n",
        "print(obj3 * ob4) "
      ],
      "execution_count": 13,
      "outputs": [
        {
          "output_type": "stream",
          "text": [
            "2\n",
            "35\n"
          ],
          "name": "stdout"
        }
      ]
    },
    {
      "cell_type": "code",
      "metadata": {
        "id": "v-zcTBKp8wbJ"
      },
      "source": [
        ""
      ],
      "execution_count": null,
      "outputs": []
    }
  ]
}