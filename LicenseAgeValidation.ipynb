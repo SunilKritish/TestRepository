{
  "nbformat": 4,
  "nbformat_minor": 0,
  "metadata": {
    "colab": {
      "name": "Untitled0.ipynb",
      "provenance": [],
      "authorship_tag": "ABX9TyNSrdjWhsDiLg+GEAM2ffrk",
      "include_colab_link": true
    },
    "kernelspec": {
      "name": "python3",
      "display_name": "Python 3"
    }
  },
  "cells": [
    {
      "cell_type": "markdown",
      "metadata": {
        "id": "view-in-github",
        "colab_type": "text"
      },
      "source": [
        "<a href=\"https://colab.research.google.com/github/SunilKritish/TestRepository/blob/main/LicenseAgeValidation.ipynb\" target=\"_parent\"><img src=\"https://colab.research.google.com/assets/colab-badge.svg\" alt=\"Open In Colab\"/></a>"
      ]
    },
    {
      "cell_type": "code",
      "metadata": {
        "colab": {
          "base_uri": "https://localhost:8080/"
        },
        "id": "SmS3g_vIGSwU",
        "outputId": "27fae7bd-2b32-4f93-d16c-02058338556d"
      },
      "source": [
        "x=75\r\n",
        "if x>18 and x<71:\r\n",
        "    print(\"Person is eligible for license\")\r\n",
        "elif x>70:\r\n",
        "    print(\"Person is not eligible for license\")\r\n",
        "elif x<18:\r\n",
        "  print(\"person is not eligible for license\")\r\n"
      ],
      "execution_count": 36,
      "outputs": [
        {
          "output_type": "stream",
          "text": [
            "Person is not eligible for license\n"
          ],
          "name": "stdout"
        }
      ]
    }
  ]
}